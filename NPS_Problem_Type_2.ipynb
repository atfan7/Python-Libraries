{
  "nbformat": 4,
  "nbformat_minor": 0,
  "metadata": {
    "colab": {
      "provenance": [],
      "authorship_tag": "ABX9TyNGxwvRWUV5Cnd+9i6NRIb1",
      "include_colab_link": true
    },
    "kernelspec": {
      "name": "python3",
      "display_name": "Python 3"
    },
    "language_info": {
      "name": "python"
    }
  },
  "cells": [
    {
      "cell_type": "markdown",
      "metadata": {
        "id": "view-in-github",
        "colab_type": "text"
      },
      "source": [
        "<a href=\"https://colab.research.google.com/github/atfan7/Python-Libraries/blob/main/NPS_Problem_Type_2.ipynb\" target=\"_parent\"><img src=\"https://colab.research.google.com/assets/colab-badge.svg\" alt=\"Open In Colab\"/></a>"
      ]
    },
    {
      "cell_type": "markdown",
      "source": [
        "Calculating NPS using catagorical data\n"
      ],
      "metadata": {
        "id": "xTFjYMHScmbc"
      }
    },
    {
      "cell_type": "markdown",
      "source": [
        "STEP 1: Importing data set from google drive\n"
      ],
      "metadata": {
        "id": "lnS7xWHmOINY"
      }
    },
    {
      "cell_type": "code",
      "source": [
        "!gdown 1c0ClC8SrPwJq5rrkyMKyPn80nyHcFikK"
      ],
      "metadata": {
        "colab": {
          "base_uri": "https://localhost:8080/"
        },
        "id": "c-z1JNjxonCa",
        "outputId": "e48461ba-6cc6-439a-f864-d03b21de4aa1"
      },
      "execution_count": 1,
      "outputs": [
        {
          "output_type": "stream",
          "name": "stdout",
          "text": [
            "Downloading...\n",
            "From: https://drive.google.com/uc?id=1c0ClC8SrPwJq5rrkyMKyPn80nyHcFikK\n",
            "To: /content/survey.txt\n",
            "\r  0% 0.00/2.55k [00:00<?, ?B/s]\r100% 2.55k/2.55k [00:00<00:00, 12.0MB/s]\n"
          ]
        }
      ]
    },
    {
      "cell_type": "markdown",
      "source": [
        "STEP 2: Loading and reading the text file\n"
      ],
      "metadata": {
        "id": "L_U-pXR3QCvc"
      }
    },
    {
      "cell_type": "code",
      "source": [
        "import numpy as np\n",
        "score= np.loadtxt('survey.txt',dtype='int')"
      ],
      "metadata": {
        "id": "92JewIVZoV_f"
      },
      "execution_count": 3,
      "outputs": []
    },
    {
      "cell_type": "markdown",
      "source": [
        "STEP 3 : Create an empty string array [U1 symbolizes the max string length of 10]"
      ],
      "metadata": {
        "id": "Xhiv22SBpHkz"
      }
    },
    {
      "cell_type": "code",
      "source": [
        "arr=np.empty(score.shape,dtype='U10')\n",
        "arr.dtype"
      ],
      "metadata": {
        "colab": {
          "base_uri": "https://localhost:8080/"
        },
        "id": "HkUK51CKpLuw",
        "outputId": "9660e9aa-0d9c-4ec1-fe5c-3ea644e25dea"
      },
      "execution_count": 7,
      "outputs": [
        {
          "output_type": "execute_result",
          "data": {
            "text/plain": [
              "dtype('<U10')"
            ]
          },
          "metadata": {},
          "execution_count": 7
        }
      ]
    },
    {
      "cell_type": "markdown",
      "source": [
        "STEP 4: Converting Numerical type of data to catagorical data using masking concept"
      ],
      "metadata": {
        "id": "ZOY6nCukpttm"
      }
    },
    {
      "cell_type": "code",
      "source": [
        "arr[score>=9]='Promoters'\n",
        "arr[score<=6]='Detractors'\n",
        "arr[(score>=7) & (score<=8)]='Passive'\n",
        "\n",
        "arr"
      ],
      "metadata": {
        "colab": {
          "base_uri": "https://localhost:8080/"
        },
        "id": "7zb_oKTSqe8N",
        "outputId": "06a027b2-42d2-4975-f80f-4d0128479099"
      },
      "execution_count": 11,
      "outputs": [
        {
          "output_type": "execute_result",
          "data": {
            "text/plain": [
              "array(['Passive', 'Promoters', 'Detractors', ..., 'Detractors',\n",
              "       'Promoters', 'Promoters'], dtype='<U10')"
            ]
          },
          "metadata": {},
          "execution_count": 11
        }
      ]
    },
    {
      "cell_type": "markdown",
      "source": [
        "STEP 5: Count Promoters,Detractors and Passive customers"
      ],
      "metadata": {
        "id": "R9kS9X5SrZS4"
      }
    },
    {
      "cell_type": "code",
      "source": [
        "promoters_count =arr[arr=='Promoters'].shape[0]\n",
        "detractors_count =arr[arr=='Detractors'].shape[0]\n",
        "passive_count =arr[arr=='Passive'].shape[0]\n",
        "\n",
        "promoters_count, detractors_count, passive_count"
      ],
      "metadata": {
        "colab": {
          "base_uri": "https://localhost:8080/"
        },
        "id": "Yyf2Wz3tr_AE",
        "outputId": "86bb0565-2cb5-4de2-a396-53ca008853c8"
      },
      "execution_count": 12,
      "outputs": [
        {
          "output_type": "execute_result",
          "data": {
            "text/plain": [
              "(609, 332, 226)"
            ]
          },
          "metadata": {},
          "execution_count": 12
        }
      ]
    },
    {
      "cell_type": "markdown",
      "source": [
        "STEP 5.1: Count using unique function"
      ],
      "metadata": {
        "id": "yoldVESKsmie"
      }
    },
    {
      "cell_type": "code",
      "source": [
        "np.unique(arr)"
      ],
      "metadata": {
        "colab": {
          "base_uri": "https://localhost:8080/"
        },
        "id": "L_sS9shcs0f1",
        "outputId": "32ccb85e-ae32-4340-ab7c-f9124de6cfab"
      },
      "execution_count": 13,
      "outputs": [
        {
          "output_type": "execute_result",
          "data": {
            "text/plain": [
              "array(['Detractors', 'Passive', 'Promoters'], dtype='<U10')"
            ]
          },
          "metadata": {},
          "execution_count": 13
        }
      ]
    },
    {
      "cell_type": "code",
      "source": [
        "unique ,counts= np.unique(arr, return_counts=True)\n",
        "unique ,counts"
      ],
      "metadata": {
        "colab": {
          "base_uri": "https://localhost:8080/"
        },
        "id": "LL8Az2lAs67h",
        "outputId": "75345bfe-564c-471e-eb76-406f0cfa5eec"
      },
      "execution_count": 16,
      "outputs": [
        {
          "output_type": "execute_result",
          "data": {
            "text/plain": [
              "(array(['Detractors', 'Passive', 'Promoters'], dtype='<U10'),\n",
              " array([332, 226, 609]))"
            ]
          },
          "metadata": {},
          "execution_count": 16
        }
      ]
    },
    {
      "cell_type": "markdown",
      "source": [
        "STEP 6: Caclulating percentages"
      ],
      "metadata": {
        "id": "Py9kDgDmtgpO"
      }
    },
    {
      "cell_type": "code",
      "source": [
        "total =score.shape[0]\n",
        "percent_promoters = counts[2]/total *100\n",
        "percent_detractors = counts[0]/total *100\n",
        "percent_passive = counts[1]/total *100"
      ],
      "metadata": {
        "id": "xyFUIyPHtuvN"
      },
      "execution_count": 19,
      "outputs": []
    },
    {
      "cell_type": "markdown",
      "source": [
        "STEP 7 : Caclulating NPS"
      ],
      "metadata": {
        "id": "cOi57wkguYDB"
      }
    },
    {
      "cell_type": "code",
      "source": [
        "nps_score = percent_promoters -percent_detractors\n",
        "np.round(nps_score,2)"
      ],
      "metadata": {
        "colab": {
          "base_uri": "https://localhost:8080/"
        },
        "id": "T_qj3zg4ub6g",
        "outputId": "702c6853-3d91-43e5-ad96-0538a976d0df"
      },
      "execution_count": 22,
      "outputs": [
        {
          "output_type": "execute_result",
          "data": {
            "text/plain": [
              "23.74"
            ]
          },
          "metadata": {},
          "execution_count": 22
        }
      ]
    }
  ]
}