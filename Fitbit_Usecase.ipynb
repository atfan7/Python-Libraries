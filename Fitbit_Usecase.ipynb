{
  "nbformat": 4,
  "nbformat_minor": 0,
  "metadata": {
    "colab": {
      "provenance": [],
      "authorship_tag": "ABX9TyMq9TEpXleCu/hl8L2CXUNe",
      "include_colab_link": true
    },
    "kernelspec": {
      "name": "python3",
      "display_name": "Python 3"
    },
    "language_info": {
      "name": "python"
    }
  },
  "cells": [
    {
      "cell_type": "markdown",
      "metadata": {
        "id": "view-in-github",
        "colab_type": "text"
      },
      "source": [
        "<a href=\"https://colab.research.google.com/github/atfan7/Python-Libraries/blob/main/Fitbit_Usecase.ipynb\" target=\"_parent\"><img src=\"https://colab.research.google.com/assets/colab-badge.svg\" alt=\"Open In Colab\"/></a>"
      ]
    },
    {
      "cell_type": "markdown",
      "source": [
        "Fitbit User Insights\n",
        "Task : Analyzze and find some insights (Explanaotory data analysis ) usinf Numpy"
      ],
      "metadata": {
        "id": "amUJXzdzWy-9"
      }
    },
    {
      "cell_type": "markdown",
      "source": [
        "STEP 1 : Loading the data set"
      ],
      "metadata": {
        "id": "Tk7HJtVIW0Oa"
      }
    },
    {
      "cell_type": "code",
      "source": [
        "!gdown 1vk1Pu0djiYcrdc85yUXZ_Rqq2oZNcohd\n",
        "\n",
        "import numpy as np\n",
        "data=np.loadtxt('fit.txt',dtype='str')"
      ],
      "metadata": {
        "colab": {
          "base_uri": "https://localhost:8080/"
        },
        "id": "Rs6qxrTEXaUp",
        "outputId": "2422b5bc-73e5-4106-ae31-eca9885cdaa5"
      },
      "execution_count": 4,
      "outputs": [
        {
          "output_type": "stream",
          "name": "stdout",
          "text": [
            "Downloading...\n",
            "From: https://drive.google.com/uc?id=1vk1Pu0djiYcrdc85yUXZ_Rqq2oZNcohd\n",
            "To: /content/fit.txt\n",
            "\r  0% 0.00/3.43k [00:00<?, ?B/s]\r100% 3.43k/3.43k [00:00<00:00, 13.6MB/s]\n"
          ]
        }
      ]
    },
    {
      "cell_type": "markdown",
      "source": [
        "STEP 2: How many records and features are there ?"
      ],
      "metadata": {
        "id": "E5SOXRlQXkts"
      }
    },
    {
      "cell_type": "code",
      "source": [
        "data.shape"
      ],
      "metadata": {
        "colab": {
          "base_uri": "https://localhost:8080/"
        },
        "id": "ic1XYZfJXtLh",
        "outputId": "cd65d870-694c-40c8-8835-df36f6dec521"
      },
      "execution_count": 5,
      "outputs": [
        {
          "output_type": "execute_result",
          "data": {
            "text/plain": [
              "(96, 6)"
            ]
          },
          "metadata": {},
          "execution_count": 5
        }
      ]
    },
    {
      "cell_type": "markdown",
      "source": [
        "Question 2: First 5 records in 2D array"
      ],
      "metadata": {
        "id": "aB7SizD6Y0ar"
      }
    },
    {
      "cell_type": "code",
      "source": [
        "data[:5]"
      ],
      "metadata": {
        "colab": {
          "base_uri": "https://localhost:8080/"
        },
        "id": "7Mgu7tP1ZBgj",
        "outputId": "7f42adc7-6796-4887-e81f-28e49b53fa3b"
      },
      "execution_count": 6,
      "outputs": [
        {
          "output_type": "execute_result",
          "data": {
            "text/plain": [
              "array([['06-10-2017', '5464', 'Neutral', '181', '5', 'Inactive'],\n",
              "       ['07-10-2017', '6041', 'Sad', '197', '8', 'Inactive'],\n",
              "       ['08-10-2017', '25', 'Sad', '0', '5', 'Inactive'],\n",
              "       ['09-10-2017', '5461', 'Sad', '174', '4', 'Inactive'],\n",
              "       ['10-10-2017', '6915', 'Neutral', '223', '5', 'Active']],\n",
              "      dtype='<U10')"
            ]
          },
          "metadata": {},
          "execution_count": 6
        }
      ]
    },
    {
      "cell_type": "markdown",
      "source": [
        "STEP 3 : How my data in saved (First record in the 2D array)"
      ],
      "metadata": {
        "id": "O94aCCQuZF3r"
      }
    },
    {
      "cell_type": "code",
      "source": [
        "data[0]"
      ],
      "metadata": {
        "colab": {
          "base_uri": "https://localhost:8080/"
        },
        "id": "otV40zmwZgPr",
        "outputId": "adab87f5-30a9-42b8-800f-2da175757081"
      },
      "execution_count": 7,
      "outputs": [
        {
          "output_type": "execute_result",
          "data": {
            "text/plain": [
              "array(['06-10-2017', '5464', 'Neutral', '181', '5', 'Inactive'],\n",
              "      dtype='<U10')"
            ]
          },
          "metadata": {},
          "execution_count": 7
        }
      ]
    },
    {
      "cell_type": "markdown",
      "source": [
        "Question 4: By data[0], we need first column of dates ...not all features .How can we do it ? [Hint :Transpose]"
      ],
      "metadata": {
        "id": "d9RI16ZAaBdz"
      }
    },
    {
      "cell_type": "code",
      "source": [
        "data.T[0]"
      ],
      "metadata": {
        "colab": {
          "base_uri": "https://localhost:8080/"
        },
        "id": "9lfZKdPVaTIR",
        "outputId": "69391510-f3e8-49bd-a1de-56eb4dcb3ebf"
      },
      "execution_count": 8,
      "outputs": [
        {
          "output_type": "execute_result",
          "data": {
            "text/plain": [
              "array(['06-10-2017', '07-10-2017', '08-10-2017', '09-10-2017',\n",
              "       '10-10-2017', '11-10-2017', '12-10-2017', '13-10-2017',\n",
              "       '14-10-2017', '15-10-2017', '16-10-2017', '17-10-2017',\n",
              "       '18-10-2017', '19-10-2017', '20-10-2017', '21-10-2017',\n",
              "       '22-10-2017', '23-10-2017', '24-10-2017', '25-10-2017',\n",
              "       '26-10-2017', '27-10-2017', '28-10-2017', '29-10-2017',\n",
              "       '30-10-2017', '31-10-2017', '01-11-2017', '02-11-2017',\n",
              "       '03-11-2017', '04-11-2017', '05-11-2017', '06-11-2017',\n",
              "       '07-11-2017', '08-11-2017', '09-11-2017', '10-11-2017',\n",
              "       '11-11-2017', '12-11-2017', '13-11-2017', '14-11-2017',\n",
              "       '15-11-2017', '16-11-2017', '17-11-2017', '18-11-2017',\n",
              "       '19-11-2017', '20-11-2017', '21-11-2017', '22-11-2017',\n",
              "       '23-11-2017', '24-11-2017', '25-11-2017', '26-11-2017',\n",
              "       '27-11-2017', '28-11-2017', '29-11-2017', '30-11-2017',\n",
              "       '01-12-2017', '02-12-2017', '03-12-2017', '04-12-2017',\n",
              "       '05-12-2017', '06-12-2017', '07-12-2017', '08-12-2017',\n",
              "       '09-12-2017', '10-12-2017', '11-12-2017', '12-12-2017',\n",
              "       '13-12-2017', '14-12-2017', '15-12-2017', '16-12-2017',\n",
              "       '17-12-2017', '18-12-2017', '19-12-2017', '20-12-2017',\n",
              "       '21-12-2017', '22-12-2017', '23-12-2017', '24-12-2017',\n",
              "       '25-12-2017', '26-12-2017', '27-12-2017', '28-12-2017',\n",
              "       '29-12-2017', '30-12-2017', '31-12-2017', '01-01-2018',\n",
              "       '02-01-2018', '03-01-2018', '04-01-2018', '05-01-2018',\n",
              "       '06-01-2018', '07-01-2018', '08-01-2018', '09-01-2018'],\n",
              "      dtype='<U10')"
            ]
          },
          "metadata": {},
          "execution_count": 8
        }
      ]
    },
    {
      "cell_type": "markdown",
      "source": [
        "STEP 4 : Transpose all columns (use unpacking too)"
      ],
      "metadata": {
        "id": "p5l_BZM4a59U"
      }
    },
    {
      "cell_type": "code",
      "source": [
        "date,step_count,mood,calories_burned,hours_of_sleep,active =data.T"
      ],
      "metadata": {
        "id": "W5sYqAHabBvN"
      },
      "execution_count": 11,
      "outputs": []
    },
    {
      "cell_type": "markdown",
      "source": [
        "STEP 5 : Converting string to int data type"
      ],
      "metadata": {
        "id": "Qa9h189QboeN"
      }
    },
    {
      "cell_type": "code",
      "source": [
        "step_count =np.array(step_count,dtype='int')\n",
        "calories_burned =np.array(calories_burned,dtype='int')\n",
        "hours_of_sleep =np.array(hours_of_sleep,dtype='int')"
      ],
      "metadata": {
        "id": "994WSiBHb1Y5"
      },
      "execution_count": 12,
      "outputs": []
    },
    {
      "cell_type": "markdown",
      "source": [
        "STEP 7: Unique values in mood and active column"
      ],
      "metadata": {
        "id": "nKcrPoCGceBS"
      }
    },
    {
      "cell_type": "code",
      "source": [
        "np.unique(mood)"
      ],
      "metadata": {
        "colab": {
          "base_uri": "https://localhost:8080/"
        },
        "id": "WGsEor-_cmTH",
        "outputId": "3ef507a5-008d-4d80-8523-3d762c868732"
      },
      "execution_count": 18,
      "outputs": [
        {
          "output_type": "execute_result",
          "data": {
            "text/plain": [
              "array(['Happy', 'Neutral', 'Sad'], dtype='<U10')"
            ]
          },
          "metadata": {},
          "execution_count": 18
        }
      ]
    },
    {
      "cell_type": "code",
      "source": [
        "np.unique(active)"
      ],
      "metadata": {
        "colab": {
          "base_uri": "https://localhost:8080/"
        },
        "id": "gYMG1dP8c6CQ",
        "outputId": "5a3c4f91-469f-40c6-87e1-7af5140c89e4"
      },
      "execution_count": 17,
      "outputs": [
        {
          "output_type": "execute_result",
          "data": {
            "text/plain": [
              "array(['Active', 'Inactive'], dtype='<U10')"
            ]
          },
          "metadata": {},
          "execution_count": 17
        }
      ]
    },
    {
      "cell_type": "markdown",
      "source": [
        "**ANALYSIS **"
      ],
      "metadata": {
        "id": "FWB1bCAodDrm"
      }
    },
    {
      "cell_type": "markdown",
      "source": [
        "Question 1: What is the average step count of the user ?"
      ],
      "metadata": {
        "id": "IaqJDh61dIjJ"
      }
    },
    {
      "cell_type": "code",
      "source": [
        "np.mean(step_count)"
      ],
      "metadata": {
        "colab": {
          "base_uri": "https://localhost:8080/"
        },
        "id": "ecDWpClrdN8U",
        "outputId": "e5c3bb23-0dd8-4dc6-c77f-5138e762bf07"
      },
      "execution_count": 19,
      "outputs": [
        {
          "output_type": "execute_result",
          "data": {
            "text/plain": [
              "2935.9375"
            ]
          },
          "metadata": {},
          "execution_count": 19
        }
      ]
    },
    {
      "cell_type": "markdown",
      "source": [
        "Question 2: Which date step count was the highest ?"
      ],
      "metadata": {
        "id": "2jaCWuvrdV9v"
      }
    },
    {
      "cell_type": "code",
      "source": [
        "date[step_count.argmax()]"
      ],
      "metadata": {
        "colab": {
          "base_uri": "https://localhost:8080/",
          "height": 35
        },
        "id": "NoHJN_CZdkjn",
        "outputId": "5f4b08ff-db17-40cd-8864-9ee68821e260"
      },
      "execution_count": 20,
      "outputs": [
        {
          "output_type": "execute_result",
          "data": {
            "text/plain": [
              "'14-12-2017'"
            ],
            "application/vnd.google.colaboratory.intrinsic+json": {
              "type": "string"
            }
          },
          "metadata": {},
          "execution_count": 20
        }
      ]
    },
    {
      "cell_type": "markdown",
      "source": [
        "Question 3: Number of Calories burnt when step count was maximun"
      ],
      "metadata": {
        "id": "G86uTv4LeCp_"
      }
    },
    {
      "cell_type": "code",
      "source": [
        "calories_burned[step_count.argmax()]"
      ],
      "metadata": {
        "colab": {
          "base_uri": "https://localhost:8080/"
        },
        "id": "8KB6j1p7eNFH",
        "outputId": "b9af59d3-dc85-4038-b8b6-0c39986a5e63"
      },
      "execution_count": 22,
      "outputs": [
        {
          "output_type": "execute_result",
          "data": {
            "text/plain": [
              "243"
            ]
          },
          "metadata": {},
          "execution_count": 22
        }
      ]
    },
    {
      "cell_type": "markdown",
      "source": [
        "Question 4: Maximum step count"
      ],
      "metadata": {
        "id": "9wK5XnfteajW"
      }
    },
    {
      "cell_type": "code",
      "source": [
        "step_count.max()"
      ],
      "metadata": {
        "colab": {
          "base_uri": "https://localhost:8080/"
        },
        "id": "mkWM1w9len-m",
        "outputId": "1d8daf27-9a06-40d4-fee5-ed1c4f28cc90"
      },
      "execution_count": 23,
      "outputs": [
        {
          "output_type": "execute_result",
          "data": {
            "text/plain": [
              "7422"
            ]
          },
          "metadata": {},
          "execution_count": 23
        }
      ]
    },
    {
      "cell_type": "markdown",
      "source": [
        "Question 5: Compare step counts on badd mood days and good mood days"
      ],
      "metadata": {
        "id": "Zbbxmpmfetjl"
      }
    },
    {
      "cell_type": "code",
      "source": [
        "np.mean(step_count[mood== 'Sad'])"
      ],
      "metadata": {
        "colab": {
          "base_uri": "https://localhost:8080/"
        },
        "id": "pfPi-D9-e3A-",
        "outputId": "3d93c3e4-0901-47eb-c968-af3eb321c3a0"
      },
      "execution_count": 24,
      "outputs": [
        {
          "output_type": "execute_result",
          "data": {
            "text/plain": [
              "2103.0689655172414"
            ]
          },
          "metadata": {},
          "execution_count": 24
        }
      ]
    },
    {
      "cell_type": "code",
      "source": [
        "np.mean(step_count[mood== 'Happy'])"
      ],
      "metadata": {
        "colab": {
          "base_uri": "https://localhost:8080/"
        },
        "id": "M293jkkSfPlk",
        "outputId": "9f2fd4a8-307d-4539-969c-731a6e4a5918"
      },
      "execution_count": 25,
      "outputs": [
        {
          "output_type": "execute_result",
          "data": {
            "text/plain": [
              "3392.725"
            ]
          },
          "metadata": {},
          "execution_count": 25
        }
      ]
    },
    {
      "cell_type": "markdown",
      "source": [
        "Question 6: Mood when step count of user is greater than 4000 steps"
      ],
      "metadata": {
        "id": "K6K6Iu_PfYof"
      }
    },
    {
      "cell_type": "code",
      "source": [
        "mood[step_count>4000]"
      ],
      "metadata": {
        "colab": {
          "base_uri": "https://localhost:8080/"
        },
        "id": "IyE5x27FfnAE",
        "outputId": "458195a2-6556-48eb-eaa8-2c3fd8d5a5c5"
      },
      "execution_count": 26,
      "outputs": [
        {
          "output_type": "execute_result",
          "data": {
            "text/plain": [
              "array(['Neutral', 'Sad', 'Sad', 'Neutral', 'Sad', 'Sad', 'Sad', 'Happy',\n",
              "       'Neutral', 'Neutral', 'Happy', 'Happy', 'Happy', 'Happy',\n",
              "       'Neutral', 'Happy', 'Happy', 'Happy', 'Happy', 'Happy', 'Happy',\n",
              "       'Happy', 'Happy', 'Happy', 'Happy', 'Happy', 'Happy', 'Sad',\n",
              "       'Happy', 'Happy', 'Neutral', 'Happy', 'Neutral', 'Neutral', 'Sad',\n",
              "       'Happy', 'Neutral', 'Happy'], dtype='<U10')"
            ]
          },
          "metadata": {},
          "execution_count": 26
        }
      ]
    },
    {
      "cell_type": "code",
      "source": [
        "np.unique(mood[step_count>4000],return_counts=True)"
      ],
      "metadata": {
        "colab": {
          "base_uri": "https://localhost:8080/"
        },
        "id": "OBUKIHxMf1Sh",
        "outputId": "15bafe87-1b4b-468d-8804-6fd44fff2f20"
      },
      "execution_count": 27,
      "outputs": [
        {
          "output_type": "execute_result",
          "data": {
            "text/plain": [
              "(array(['Happy', 'Neutral', 'Sad'], dtype='<U10'), array([22,  9,  7]))"
            ]
          },
          "metadata": {},
          "execution_count": 27
        }
      ]
    },
    {
      "cell_type": "markdown",
      "source": [
        "Question 7: Mood when step count of user is less than 2000 steps"
      ],
      "metadata": {
        "id": "DIzSzAZLgFU3"
      }
    },
    {
      "cell_type": "code",
      "source": [
        "np.unique(mood[step_count<2000],return_counts=True)"
      ],
      "metadata": {
        "colab": {
          "base_uri": "https://localhost:8080/"
        },
        "id": "O1utqKBagOkC",
        "outputId": "7b911616-553c-48b0-b45a-b7827e289d22"
      },
      "execution_count": 28,
      "outputs": [
        {
          "output_type": "execute_result",
          "data": {
            "text/plain": [
              "(array(['Happy', 'Neutral', 'Sad'], dtype='<U10'), array([13,  8, 18]))"
            ]
          },
          "metadata": {},
          "execution_count": 28
        }
      ]
    }
  ]
}